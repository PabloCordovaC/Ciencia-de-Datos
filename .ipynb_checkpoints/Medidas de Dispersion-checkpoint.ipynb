{
 "cells": [
  {
   "cell_type": "code",
   "execution_count": 1,
   "id": "79f559fa",
   "metadata": {},
   "outputs": [],
   "source": [
    "import pandas as pd\n",
    "pd.options.display.max_columns = None\n",
    "import matplotlib.pyplot as plt\n",
    "import seaborn as sns"
   ]
  },
  {
   "cell_type": "code",
   "execution_count": 2,
   "id": "a53588cd",
   "metadata": {},
   "outputs": [],
   "source": [
    "df = pd.read_csv('cars.csv')"
   ]
  },
  {
   "cell_type": "code",
   "execution_count": 3,
   "id": "2d2e8f5d",
   "metadata": {},
   "outputs": [
    {
     "data": {
      "text/plain": [
       "6428.152018202915"
      ]
     },
     "execution_count": 3,
     "metadata": {},
     "output_type": "execute_result"
    }
   ],
   "source": [
    "df['price_usd'].std()"
   ]
  },
  {
   "cell_type": "code",
   "execution_count": 5,
   "id": "76d50f7c",
   "metadata": {},
   "outputs": [
    {
     "data": {
      "text/plain": [
       "49999.0"
      ]
     },
     "execution_count": 5,
     "metadata": {},
     "output_type": "execute_result"
    }
   ],
   "source": [
    "rango = df['price_usd'].max() - df['price_usd'].min()\n",
    "rango"
   ]
  },
  {
   "cell_type": "code",
   "execution_count": 6,
   "id": "f779d327",
   "metadata": {},
   "outputs": [
    {
     "name": "stdout",
     "output_type": "stream",
     "text": [
      "4800.0 2100.0 8990.0\n"
     ]
    }
   ],
   "source": [
    "median = df['price_usd'].median()\n",
    "Q1 = df['price_usd'].quantile(q=0.25)\n",
    "Q3 = df['price_usd'].quantile(q=0.75)\n",
    "print(median,Q1,Q3)"
   ]
  },
  {
   "cell_type": "code",
   "execution_count": 7,
   "id": "9c26b1c8",
   "metadata": {},
   "outputs": [
    {
     "name": "stdout",
     "output_type": "stream",
     "text": [
      "1.0 50000.0\n"
     ]
    }
   ],
   "source": [
    "# calcular el maximo y minimo de cada cuartil\n",
    "min_val = df['price_usd'].quantile(q=0)\n",
    "max_val = df['price_usd'].quantile(q=1)\n",
    "print(min_val,max_val)"
   ]
  },
  {
   "cell_type": "code",
   "execution_count": 8,
   "id": "f7f00864",
   "metadata": {},
   "outputs": [
    {
     "name": "stdout",
     "output_type": "stream",
     "text": [
      "1.0 2100.0 4800.0 8990.0 50000.0\n"
     ]
    }
   ],
   "source": [
    "print(min_val,Q1,median,Q3,max_val)"
   ]
  },
  {
   "cell_type": "code",
   "execution_count": null,
   "id": "7b99095d",
   "metadata": {},
   "outputs": [],
   "source": []
  }
 ],
 "metadata": {
  "kernelspec": {
   "display_name": "Python 3 (ipykernel)",
   "language": "python",
   "name": "python3"
  },
  "language_info": {
   "codemirror_mode": {
    "name": "ipython",
    "version": 3
   },
   "file_extension": ".py",
   "mimetype": "text/x-python",
   "name": "python",
   "nbconvert_exporter": "python",
   "pygments_lexer": "ipython3",
   "version": "3.9.7"
  }
 },
 "nbformat": 4,
 "nbformat_minor": 5
}
